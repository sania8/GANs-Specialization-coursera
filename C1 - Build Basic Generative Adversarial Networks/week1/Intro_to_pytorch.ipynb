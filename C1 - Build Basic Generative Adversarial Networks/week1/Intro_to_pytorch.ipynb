{
  "nbformat": 4,
  "nbformat_minor": 0,
  "metadata": {
    "colab": {
      "provenance": []
    },
    "kernelspec": {
      "name": "python3",
      "display_name": "Python 3"
    },
    "language_info": {
      "name": "python"
    }
  },
  "cells": [
    {
      "cell_type": "markdown",
      "source": [
        "# Intro\n",
        "PyTorch is a very powerful machine learning framework. Central to PyTorch are tensors, a generalization of matrices to higher ranks. One intuitive example of a tensor is an image with three color channels: A 3-channel (red, green, blue) image which is 64 pixels wide and 64 pixels tall is a\n",
        " tensor. You can access the PyTorch framework by writing import torch near the top of your code, along with all of your other import statements.\n",
        "\n",
        "This guide will help introduce you to the functionality of PyTorch, but don't worry too much about memorizing it: the assignments will link to relevant documentation where necessary."
      ],
      "metadata": {
        "id": "bBE0mZKQ--4k"
      }
    },
    {
      "cell_type": "code",
      "execution_count": 2,
      "metadata": {
        "id": "aHtK6lEO-KAc"
      },
      "outputs": [],
      "source": [
        "import torch"
      ]
    },
    {
      "cell_type": "markdown",
      "source": [
        "# **Why PyTorch?**\n",
        "\n",
        "---\n",
        "\n",
        "\n",
        "One important question worth asking is, why is PyTorch being used for this course? There is a great breakdown by the Gradient looking at the state of machine learning frameworks today. In part, as highlighted by the article, PyTorch is generally more pythonic than alternative frameworks, easier to debug, and is the most-used language in machine learning research by a large and growing margin. While PyTorch's primary alternative, Tensorflow, has attempted to integrate many of PyTorch's features, Tensorflow's implementations come with some inherent limitations highlighted in the article.\n",
        "\n",
        "Notably, while PyTorch's industry usage has grown, Tensorflow is still (for now) a slight favorite in industry. In practice, the features that make PyTorch attractive for research also make it attractive for education, and the general trend of machine learning research and practice to PyTorch makes it the more proactive choice."
      ],
      "metadata": {
        "id": "5BjcIggd_WuD"
      }
    },
    {
      "cell_type": "markdown",
      "source": [
        "In simple words tensor is a way to store the data in the form of a matrix for the machine learning to understad better"
      ],
      "metadata": {
        "id": "mfdiFaG1ArFo"
      }
    },
    {
      "cell_type": "code",
      "source": [
        "example_tensor = torch.Tensor(\n",
        "    [\n",
        "        [[1,2], [3,4]],\n",
        "        [[5,6], [7,8]],\n",
        "        [[9,0], [1,2]]\n",
        "    ]\n",
        ")"
      ],
      "metadata": {
        "id": "slZ7CDHR_JpF"
      },
      "execution_count": 3,
      "outputs": []
    },
    {
      "cell_type": "code",
      "source": [
        "example_tensor"
      ],
      "metadata": {
        "colab": {
          "base_uri": "https://localhost:8080/"
        },
        "id": "FO7mVfIC_1J5",
        "outputId": "c4d40a70-3fc9-4bd1-f258-a7026869cb85"
      },
      "execution_count": 4,
      "outputs": [
        {
          "output_type": "execute_result",
          "data": {
            "text/plain": [
              "tensor([[[1., 2.],\n",
              "         [3., 4.]],\n",
              "\n",
              "        [[5., 6.],\n",
              "         [7., 8.]],\n",
              "\n",
              "        [[9., 0.],\n",
              "         [1., 2.]]])"
            ]
          },
          "metadata": {},
          "execution_count": 4
        }
      ]
    },
    {
      "cell_type": "markdown",
      "source": [
        "# Tensor Properties: Device"
      ],
      "metadata": {
        "id": "0O3wOn-9A5M-"
      }
    },
    {
      "cell_type": "code",
      "source": [
        "example_tensor.device"
      ],
      "metadata": {
        "colab": {
          "base_uri": "https://localhost:8080/"
        },
        "id": "vsnz2Q8YAp_S",
        "outputId": "75dee378-1967-4d5a-c2cb-7c901964d3b0"
      },
      "execution_count": 5,
      "outputs": [
        {
          "output_type": "execute_result",
          "data": {
            "text/plain": [
              "device(type='cpu')"
            ]
          },
          "metadata": {},
          "execution_count": 5
        }
      ]
    },
    {
      "cell_type": "markdown",
      "source": [
        "# Tensor Properties: Shape"
      ],
      "metadata": {
        "id": "9HiUIYygBB6x"
      }
    },
    {
      "cell_type": "code",
      "source": [
        "example_tensor.shape"
      ],
      "metadata": {
        "colab": {
          "base_uri": "https://localhost:8080/"
        },
        "id": "F6jK6ifhBAjQ",
        "outputId": "c32a29be-d61d-45e2-c05a-eca0c45ba37d"
      },
      "execution_count": 6,
      "outputs": [
        {
          "output_type": "execute_result",
          "data": {
            "text/plain": [
              "torch.Size([3, 2, 2])"
            ]
          },
          "metadata": {},
          "execution_count": 6
        }
      ]
    },
    {
      "cell_type": "code",
      "source": [
        "n=1\n",
        "example_tensor.shape[n-1] , example_tensor.shape[n], example_tensor.shape[n+1]"
      ],
      "metadata": {
        "colab": {
          "base_uri": "https://localhost:8080/"
        },
        "id": "nY7k5_JVBN-Y",
        "outputId": "ce736078-a209-46f3-8da8-56da3f43ed45"
      },
      "execution_count": 7,
      "outputs": [
        {
          "output_type": "execute_result",
          "data": {
            "text/plain": [
              "(3, 2, 2)"
            ]
          },
          "metadata": {},
          "execution_count": 7
        }
      ]
    },
    {
      "cell_type": "markdown",
      "source": [
        "The above cell it to print the size of a particular dimension (n) where n can be from 0 to 2"
      ],
      "metadata": {
        "id": "6GlWmDmPBd5W"
      }
    },
    {
      "cell_type": "markdown",
      "source": [
        "# Indexing Tensors"
      ],
      "metadata": {
        "id": "2yG7pwg3B5PT"
      }
    },
    {
      "cell_type": "markdown",
      "source": [
        "To access specific elements in pytorch  just write : example_tensor[n] where n can be 0 , 1 ----- (n-1)"
      ],
      "metadata": {
        "id": "BvnEd-3vB_zn"
      }
    },
    {
      "cell_type": "code",
      "source": [
        "example_tensor[1]"
      ],
      "metadata": {
        "colab": {
          "base_uri": "https://localhost:8080/"
        },
        "id": "Fa7M1ncMB1tS",
        "outputId": "f340cea3-776f-4a33-84ae-a09449bcc4a9"
      },
      "execution_count": 8,
      "outputs": [
        {
          "output_type": "execute_result",
          "data": {
            "text/plain": [
              "tensor([[5., 6.],\n",
              "        [7., 8.]])"
            ]
          },
          "metadata": {},
          "execution_count": 8
        }
      ]
    },
    {
      "cell_type": "code",
      "source": [
        "example_tensor[0]"
      ],
      "metadata": {
        "colab": {
          "base_uri": "https://localhost:8080/"
        },
        "id": "VTgjgqDyCPXn",
        "outputId": "f0f8c93e-fc54-490a-bc98-977c7f8c4a83"
      },
      "execution_count": 9,
      "outputs": [
        {
          "output_type": "execute_result",
          "data": {
            "text/plain": [
              "tensor([[1., 2.],\n",
              "        [3., 4.]])"
            ]
          },
          "metadata": {},
          "execution_count": 9
        }
      ]
    },
    {
      "cell_type": "code",
      "source": [
        "example_tensor[2]"
      ],
      "metadata": {
        "colab": {
          "base_uri": "https://localhost:8080/"
        },
        "id": "xrxE1YNECROV",
        "outputId": "db75bdcc-f948-4525-f52a-0fbea90013f7"
      },
      "execution_count": 10,
      "outputs": [
        {
          "output_type": "execute_result",
          "data": {
            "text/plain": [
              "tensor([[9., 0.],\n",
              "        [1., 2.]])"
            ]
          },
          "metadata": {},
          "execution_count": 10
        }
      ]
    },
    {
      "cell_type": "markdown",
      "source": [
        "In addition, if you want to access the\n",
        "-jth dimension of the\n",
        "-ith example, you can write example_tensor[i, j]"
      ],
      "metadata": {
        "id": "OCQ7u32yCV1I"
      }
    },
    {
      "cell_type": "code",
      "source": [
        "example_tensor[2,0,0]\n"
      ],
      "metadata": {
        "colab": {
          "base_uri": "https://localhost:8080/"
        },
        "id": "Ltp-nRzgCSqj",
        "outputId": "e543d9d3-a610-4b98-84c9-58075ffa97b0"
      },
      "execution_count": 11,
      "outputs": [
        {
          "output_type": "execute_result",
          "data": {
            "text/plain": [
              "tensor(9.)"
            ]
          },
          "metadata": {},
          "execution_count": 11
        }
      ]
    },
    {
      "cell_type": "code",
      "source": [
        "example_tensor[2,0,1]\n"
      ],
      "metadata": {
        "colab": {
          "base_uri": "https://localhost:8080/"
        },
        "id": "0C84tHOACuO6",
        "outputId": "f9443e61-ee7e-48ae-ec86-ff6e9e370973"
      },
      "execution_count": 12,
      "outputs": [
        {
          "output_type": "execute_result",
          "data": {
            "text/plain": [
              "tensor(0.)"
            ]
          },
          "metadata": {},
          "execution_count": 12
        }
      ]
    },
    {
      "cell_type": "code",
      "source": [
        "example_tensor[2,1,0]\n"
      ],
      "metadata": {
        "colab": {
          "base_uri": "https://localhost:8080/"
        },
        "id": "zFK2LyWWCvUs",
        "outputId": "94df1d9a-a1ea-423c-a9ec-173a75ffe19e"
      },
      "execution_count": 13,
      "outputs": [
        {
          "output_type": "execute_result",
          "data": {
            "text/plain": [
              "tensor(1.)"
            ]
          },
          "metadata": {},
          "execution_count": 13
        }
      ]
    },
    {
      "cell_type": "code",
      "source": [
        "example_tensor[2,1,1]"
      ],
      "metadata": {
        "colab": {
          "base_uri": "https://localhost:8080/"
        },
        "id": "wSZ5-cU0CwhA",
        "outputId": "9887bf9a-759b-4e04-a482-228e24e0550f"
      },
      "execution_count": 14,
      "outputs": [
        {
          "output_type": "execute_result",
          "data": {
            "text/plain": [
              "tensor(2.)"
            ]
          },
          "metadata": {},
          "execution_count": 14
        }
      ]
    },
    {
      "cell_type": "markdown",
      "source": [
        "\n",
        "Note that if you'd like to get a Python scalar value from a tensor, you can use example_scalar.item()"
      ],
      "metadata": {
        "id": "3bQczsgoCzx3"
      }
    },
    {
      "cell_type": "code",
      "source": [
        "example_tensor[2,0,0].item()"
      ],
      "metadata": {
        "colab": {
          "base_uri": "https://localhost:8080/"
        },
        "id": "wGO1rxJaCyIG",
        "outputId": "e74da527-d104-4f6c-b055-212136e5ca2f"
      },
      "execution_count": 15,
      "outputs": [
        {
          "output_type": "execute_result",
          "data": {
            "text/plain": [
              "9.0"
            ]
          },
          "metadata": {},
          "execution_count": 15
        }
      ]
    },
    {
      "cell_type": "markdown",
      "source": [
        "In addition, you can index into the ith element of a column by using x[:, i]. For example, if you want the top-left element of each element in example_tensor, which is the 0, 0 element of each matrix, you can write:"
      ],
      "metadata": {
        "id": "yDHGhi9qC-n-"
      }
    },
    {
      "cell_type": "code",
      "source": [
        "example_tensor"
      ],
      "metadata": {
        "colab": {
          "base_uri": "https://localhost:8080/"
        },
        "id": "sL22l9jpC43g",
        "outputId": "a939abee-45c1-46c8-979f-a2a5da906055"
      },
      "execution_count": 16,
      "outputs": [
        {
          "output_type": "execute_result",
          "data": {
            "text/plain": [
              "tensor([[[1., 2.],\n",
              "         [3., 4.]],\n",
              "\n",
              "        [[5., 6.],\n",
              "         [7., 8.]],\n",
              "\n",
              "        [[9., 0.],\n",
              "         [1., 2.]]])"
            ]
          },
          "metadata": {},
          "execution_count": 16
        }
      ]
    },
    {
      "cell_type": "code",
      "source": [
        "example_tensor[:,0,1]"
      ],
      "metadata": {
        "colab": {
          "base_uri": "https://localhost:8080/"
        },
        "id": "ge3uJJ5RDH8J",
        "outputId": "3b44254a-9325-42d6-d237-0506d1b4e2b6"
      },
      "execution_count": 17,
      "outputs": [
        {
          "output_type": "execute_result",
          "data": {
            "text/plain": [
              "tensor([2., 6., 0.])"
            ]
          },
          "metadata": {},
          "execution_count": 17
        }
      ]
    },
    {
      "cell_type": "markdown",
      "source": [
        "# Initializing Tensors\n",
        "Just like when we initialise the variables there are multiple ways to do that like n=0 , n=1 and then use in the code. In a very similar way there are ways to initialize tensors. The two ways are:\n",
        "1. torch.ones_like()-> create tensors of all ones with the same shape\n",
        "2. torch.zeros_like()->create tensors of all zeros with the same shape"
      ],
      "metadata": {
        "id": "Gr_7g3gbDYI5"
      }
    },
    {
      "cell_type": "code",
      "source": [
        "torch.zeros_like(example_tensor)"
      ],
      "metadata": {
        "colab": {
          "base_uri": "https://localhost:8080/"
        },
        "id": "b_6ijzfnD-lM",
        "outputId": "f7c60765-7e5b-48bc-dfc4-2e71ec084f05"
      },
      "execution_count": 18,
      "outputs": [
        {
          "output_type": "execute_result",
          "data": {
            "text/plain": [
              "tensor([[[0., 0.],\n",
              "         [0., 0.]],\n",
              "\n",
              "        [[0., 0.],\n",
              "         [0., 0.]],\n",
              "\n",
              "        [[0., 0.],\n",
              "         [0., 0.]]])"
            ]
          },
          "metadata": {},
          "execution_count": 18
        }
      ]
    },
    {
      "cell_type": "code",
      "source": [
        "torch.ones_like(example_tensor)"
      ],
      "metadata": {
        "colab": {
          "base_uri": "https://localhost:8080/"
        },
        "id": "Weq3b6NHD4as",
        "outputId": "b2fac868-85bb-4cbb-9289-2f025f9b196a"
      },
      "execution_count": 19,
      "outputs": [
        {
          "output_type": "execute_result",
          "data": {
            "text/plain": [
              "tensor([[[1., 1.],\n",
              "         [1., 1.]],\n",
              "\n",
              "        [[1., 1.],\n",
              "         [1., 1.]],\n",
              "\n",
              "        [[1., 1.],\n",
              "         [1., 1.]]])"
            ]
          },
          "metadata": {},
          "execution_count": 19
        }
      ]
    },
    {
      "cell_type": "code",
      "source": [
        "torch.randn(2, 2, device='cpu') # Alternatively, for a GPU tensor, you'd use device='cuda'"
      ],
      "metadata": {
        "colab": {
          "base_uri": "https://localhost:8080/"
        },
        "id": "jvvCNKRzD-TN",
        "outputId": "a2267569-e188-4ca2-e174-392d077326e8"
      },
      "execution_count": 20,
      "outputs": [
        {
          "output_type": "execute_result",
          "data": {
            "text/plain": [
              "tensor([[ 0.2093, -1.2174],\n",
              "        [ 0.1111, -1.1797]])"
            ]
          },
          "metadata": {},
          "execution_count": 20
        }
      ]
    },
    {
      "cell_type": "markdown",
      "source": [
        "# Basic Functions\n",
        "There are a number of basic functions that you should know to use PyTorch - if you're familiar with numpy, all commonly-used functions exist in PyTorch, usually with the same name. You can perform element-wise multiplication / division by a scalar\n",
        " by simply writing c * example_tensor, and element-wise addition / subtraction by a scalar by writing example_tensor + c"
      ],
      "metadata": {
        "id": "vfzWgIrEEZhY"
      }
    },
    {
      "cell_type": "code",
      "source": [
        "(example_tensor -5) *2"
      ],
      "metadata": {
        "colab": {
          "base_uri": "https://localhost:8080/"
        },
        "id": "yT3Q1lunEqJ6",
        "outputId": "64d81874-c4f3-46d9-d43a-6510b6d606e3"
      },
      "execution_count": 21,
      "outputs": [
        {
          "output_type": "execute_result",
          "data": {
            "text/plain": [
              "tensor([[[ -8.,  -6.],\n",
              "         [ -4.,  -2.]],\n",
              "\n",
              "        [[  0.,   2.],\n",
              "         [  4.,   6.]],\n",
              "\n",
              "        [[  8., -10.],\n",
              "         [ -8.,  -6.]]])"
            ]
          },
          "metadata": {},
          "execution_count": 21
        }
      ]
    },
    {
      "cell_type": "markdown",
      "source": [
        "\n",
        "You can calculate the mean or standard deviation of a tensor using example_tensor.mean() or example_tensor.std()."
      ],
      "metadata": {
        "id": "sY5fQv0OE9Ju"
      }
    },
    {
      "cell_type": "code",
      "source": [
        "print(\"Mean:\", example_tensor.mean())\n",
        "print(\"Stdev:\", example_tensor.std())"
      ],
      "metadata": {
        "colab": {
          "base_uri": "https://localhost:8080/"
        },
        "id": "okFY3ctwE8dr",
        "outputId": "36361d00-a116-4056-c9ff-c5c731e6329a"
      },
      "execution_count": 22,
      "outputs": [
        {
          "output_type": "stream",
          "name": "stdout",
          "text": [
            "Mean: tensor(4.)\n",
            "Stdev: tensor(2.9848)\n"
          ]
        }
      ]
    },
    {
      "cell_type": "code",
      "source": [
        "example_tensor.mean(0) # for a specific dimension"
      ],
      "metadata": {
        "colab": {
          "base_uri": "https://localhost:8080/"
        },
        "id": "i8P3qFu2FFAk",
        "outputId": "41bfbe50-28c1-464a-876f-d1ead895049c"
      },
      "execution_count": 23,
      "outputs": [
        {
          "output_type": "execute_result",
          "data": {
            "text/plain": [
              "tensor([[5.0000, 2.6667],\n",
              "        [3.6667, 4.6667]])"
            ]
          },
          "metadata": {},
          "execution_count": 23
        }
      ]
    },
    {
      "cell_type": "markdown",
      "source": [
        "# PyTorch Neural Network Module (torch.nn)\n",
        "PyTorch has a lot of powerful classes in its torch.nn module (Usually, imported as simply nn). These classes allow you to create a new function which transforms a tensor in specific way, often retaining information when called multiple times"
      ],
      "metadata": {
        "id": "tT2avwRtFnDf"
      }
    },
    {
      "cell_type": "code",
      "source": [
        "\n",
        "import torch.nn as nn"
      ],
      "metadata": {
        "id": "ceovF4vUFI8e"
      },
      "execution_count": 24,
      "outputs": []
    },
    {
      "cell_type": "markdown",
      "source": [
        "# nn.Linear\n",
        "\n",
        "nn.Linear\n",
        "To create a linear layer, you need to pass it the number of input dimensions and the number of output dimensions. The linear object initialized as nn.Linear(10, 2) will take in a nx10\n",
        " matrix and return an nx2\n",
        " matrix, where all\n",
        " elements have had the same linear transformation performed. For example, you can initialize a linear layer which performs the operation Ax+b\n",
        ", where A\n",
        " and b\n",
        " are initialized randomly when you generate the nn.Linear() object."
      ],
      "metadata": {
        "id": "DE5BJGokFyet"
      }
    },
    {
      "cell_type": "code",
      "source": [
        "linear = nn.Linear(10,2)\n",
        "example_input = torch.randn(3,10)\n",
        "print(example_input)\n",
        "print(linear)\n",
        "example_output = linear(example_input)\n",
        "example_output"
      ],
      "metadata": {
        "colab": {
          "base_uri": "https://localhost:8080/"
        },
        "id": "kuJ3FxSjFusB",
        "outputId": "19bb815d-6719-4d3c-9f59-45e70580bc69"
      },
      "execution_count": 27,
      "outputs": [
        {
          "output_type": "stream",
          "name": "stdout",
          "text": [
            "tensor([[-0.2082,  0.7283,  2.2764, -0.5144,  2.1596, -0.5977,  0.4211, -0.4971,\n",
            "         -0.3024,  1.4633],\n",
            "        [ 0.0695, -0.3264, -0.7732, -0.1609, -3.0675, -0.5476,  0.0873, -1.1022,\n",
            "          1.5734, -0.4639],\n",
            "        [-2.2093,  1.6308,  0.5078, -0.4286, -0.9090, -0.0185, -1.7203,  0.9237,\n",
            "          1.6211, -0.7965]])\n",
            "Linear(in_features=10, out_features=2, bias=True)\n"
          ]
        },
        {
          "output_type": "execute_result",
          "data": {
            "text/plain": [
              "tensor([[-1.0690, -0.4122],\n",
              "        [ 0.8470, -0.7256],\n",
              "        [ 0.2006, -0.0790]], grad_fn=<AddmmBackward0>)"
            ]
          },
          "metadata": {},
          "execution_count": 27
        }
      ]
    },
    {
      "cell_type": "markdown",
      "source": [
        "# nn.ReLU\n",
        "nn.ReLU() will create an object that, when receiving a tensor, will perform a ReLU activation function. This will be reviewed further in lecture, but in essence, a ReLU non-linearity sets all negative numbers in a tensor to zero. In general, the simplest neural networks are composed of series of linear transformations, each followed by activation functions."
      ],
      "metadata": {
        "id": "Yb6oEYM-Ivb7"
      }
    },
    {
      "cell_type": "code",
      "source": [
        "relu = nn.ReLU()\n",
        "relu_output = relu(example_output)\n",
        "relu_output"
      ],
      "metadata": {
        "colab": {
          "base_uri": "https://localhost:8080/"
        },
        "id": "AQ-YPpsZI3DZ",
        "outputId": "3ef834b2-b10d-4d95-dbdb-b356b054463d"
      },
      "execution_count": 28,
      "outputs": [
        {
          "output_type": "execute_result",
          "data": {
            "text/plain": [
              "tensor([[0.0000, 0.0000],\n",
              "        [0.8470, 0.0000],\n",
              "        [0.2006, 0.0000]], grad_fn=<ReluBackward0>)"
            ]
          },
          "metadata": {},
          "execution_count": 28
        }
      ]
    },
    {
      "cell_type": "markdown",
      "source": [
        "# nn.BatchNorm1d\n",
        "nn.BatchNorm1d is a normalization technique that will rescale a batch of\n",
        " inputs to have a consistent mean and standard deviation between batches.\n",
        "\n",
        "As indicated by the 1d in its name, this is for situations where you expects a set of inputs, where each of them is a flat list of numbers. In other words, each input is a vector, not a matrix or higher-dimensional tensor. For a set of images, each of which is a higher-dimensional tensor, you'd use nn.BatchNorm2d, discussed later on this page.\n",
        "\n",
        "nn.BatchNorm1d takes an argument of the number of input dimensions of each object in the batch (the size of each example vector)."
      ],
      "metadata": {
        "id": "TyHW_BtdJggb"
      }
    },
    {
      "cell_type": "code",
      "source": [
        "batchnorm = nn.BatchNorm1d(2)\n",
        "batchnorm_output = batchnorm(relu_output)\n",
        "batchnorm_output"
      ],
      "metadata": {
        "colab": {
          "base_uri": "https://localhost:8080/"
        },
        "id": "t3ISiyyEKN8f",
        "outputId": "a2ac4984-d9f3-4b44-eac3-f26df70b3b6a"
      },
      "execution_count": 31,
      "outputs": [
        {
          "output_type": "execute_result",
          "data": {
            "text/plain": [
              "tensor([[-0.5624,  0.0000],\n",
              "        [ 1.4049,  0.0000],\n",
              "        [-0.8425,  0.0000]], grad_fn=<NativeBatchNormBackward0>)"
            ]
          },
          "metadata": {},
          "execution_count": 31
        }
      ]
    },
    {
      "cell_type": "code",
      "source": [
        "mlp_layer = nn.Sequential(\n",
        "    nn.Linear(5, 2),\n",
        "    nn.BatchNorm1d(2),\n",
        "    nn.ReLU()\n",
        ")\n",
        "\n",
        "test_example = torch.randn(5,5) + 1\n",
        "print(\"input: \")\n",
        "print(test_example)\n",
        "print(\"output: \")\n",
        "print(mlp_layer(test_example))"
      ],
      "metadata": {
        "colab": {
          "base_uri": "https://localhost:8080/"
        },
        "id": "GqJ-tUlvKXKS",
        "outputId": "3ee65c7d-4245-4538-c799-6862a6c1ca4a"
      },
      "execution_count": 32,
      "outputs": [
        {
          "output_type": "stream",
          "name": "stdout",
          "text": [
            "input: \n",
            "tensor([[ 1.3337, -0.5931,  0.6257,  0.9361, -0.0082],\n",
            "        [ 2.2895,  1.6730,  0.0726, -1.7070,  2.4218],\n",
            "        [ 0.9048,  2.3590,  2.4978, -0.2834,  0.3359],\n",
            "        [ 1.9263, -0.2548, -0.4634,  2.3502,  2.1302],\n",
            "        [ 1.5787,  1.0540,  1.2046,  0.6980, -0.8799]])\n",
            "output: \n",
            "tensor([[0.0000, 0.0626],\n",
            "        [1.5731, 0.0000],\n",
            "        [0.0000, 0.0000],\n",
            "        [0.7319, 1.3158],\n",
            "        [0.0000, 0.7405]], grad_fn=<ReluBackward0>)\n"
          ]
        }
      ]
    },
    {
      "cell_type": "markdown",
      "source": [
        "# Optimizers\n",
        "To create an optimizer in PyTorch, you'll need to use the torch.optim module, often imported as optim. optim.Adam corresponds to the Adam optimizer. To create an optimizer object, you'll need to pass it the parameters to be optimized and the learning rate, lr, as well as any other parameters specific to the optimizer."
      ],
      "metadata": {
        "id": "5_CsZ-9_KfDv"
      }
    },
    {
      "cell_type": "code",
      "source": [
        "import torch.optim as optim\n",
        "adam_opt = optim.Adam(mlp_layer.parameters(), lr=1e-1)"
      ],
      "metadata": {
        "id": "aWpXuIfzKlhS"
      },
      "execution_count": 33,
      "outputs": []
    },
    {
      "cell_type": "markdown",
      "source": [
        "A (basic) training step in PyTorch consists of four basic parts:\n",
        "\n",
        "Set all of the gradients to zero using opt.zero_grad()\n",
        "Calculate the loss, loss\n",
        "Calculate the gradients with respect to the loss using loss.backward()\n",
        "Update the parameters being optimized using opt.step()\n",
        "That might look like the following code (and you'll notice that if you run it several times, the loss goes down):"
      ],
      "metadata": {
        "id": "DK5RXaKsKqjp"
      }
    },
    {
      "cell_type": "code",
      "source": [
        "train_example = torch.randn(100,5) + 1\n",
        "adam_opt.zero_grad()\n",
        "\n",
        "# We'll use a simple loss function of mean distance from 1\n",
        "# torch.abs takes the absolute value of a tensor\n",
        "cur_loss = torch.abs(1 - mlp_layer(train_example)).mean()\n",
        "\n",
        "cur_loss.backward()\n",
        "adam_opt.step()\n",
        "print(cur_loss)"
      ],
      "metadata": {
        "colab": {
          "base_uri": "https://localhost:8080/"
        },
        "id": "NCq9lYVGKrIW",
        "outputId": "e7c164e3-e3f3-4971-bdde-d0dd0f40f0a3"
      },
      "execution_count": 34,
      "outputs": [
        {
          "output_type": "stream",
          "name": "stdout",
          "text": [
            "tensor(0.7768, grad_fn=<MeanBackward0>)\n"
          ]
        }
      ]
    }
  ]
}